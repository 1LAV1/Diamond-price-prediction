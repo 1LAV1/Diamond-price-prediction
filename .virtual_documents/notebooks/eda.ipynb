import pandas as pd 
import numpy as np
import seaborn as sns 
import matplotlib.pyplot as plt 



df = pd.read_csv('data/gemstone.csv')


df.head()


df.isnull().sum()


df.info()


df.columns


df.duplicated().sum()





numerical=df.columns[df.dtypes!='object']


category=df.columns[df.dtypes=='object']


category


df.describe()


df[category].describe()


df['cut'].value_counts()


df['color'].value_counts()


df['clarity'].value_counts()


import seaborn as sns
import matplotlib.pyplot as plt
plt.figure(figsize=(8,6))
x=0
for i in numerical:
    sns.histplot(data=df,x=i,kde=True)
    print('\n')
    plt.show()


x=0
plt.figure(figsize=(8,6))
for i in category:
    sns.histplot(data=df,x=i)
    plt.show()


sns.heatmap(df[numerical].corr(),annot=True)


df['cut'].unique()


cut_map={"Fair":1,"Good":2,"Very Good":3,"Premium":4,"Ideal":5}


df['clarity'].unique()


clarity_map={"I1":1,"SI2":2 ,"SI1":3 ,"VS2":4 , "VS1":5 , "VVS2":6 , "VVS1":7 ,"IF":8}


df['color'].unique()


color_map={"D":1,"E":2,"F":3,"G":4,"H":5,"I":6,"J":7}


df['cut']=df['cut'].map(cut_map)
df['clarity']=df['clarity'].map(clarity_map)
df['color']=df['color'].map(color_map)


df.head()



